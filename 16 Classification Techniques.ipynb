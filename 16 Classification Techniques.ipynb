{
 "cells": [
  {
   "cell_type": "markdown",
   "metadata": {},
   "source": [
    "# CLASSIFICATION TECHNIQUES"
   ]
  },
  {
   "cell_type": "markdown",
   "metadata": {},
   "source": [
    "In this class, we are going to:\n",
    "1. Examine various classification techniques we have learned so far\n",
    "2. Use Pipeline class to streamline workflows\n",
    "3. Make predictions using the chosen classification technique based on \n",
    "the dataset\n",
    "\n",
    "The data set we are going to use is the phishing_data.csv where the \n",
    "outcome variable has three class labels:\n",
    "a) 1: Genuine website\n",
    "b) 0: Potentially phishing website\n",
    "c) -1: Phishing website\n",
    "\n",
    "The accompanying PDF document provides some info about the features/variables\n",
    "since the source of the dataset did not provide that information."
   ]
  },
  {
   "cell_type": "markdown",
   "metadata": {},
   "source": [
    "# STEP 1: READ THE DATA"
   ]
  },
  {
   "cell_type": "code",
   "execution_count": 1,
   "metadata": {},
   "outputs": [
    {
     "data": {
      "text/html": [
       "<div>\n",
       "<style scoped>\n",
       "    .dataframe tbody tr th:only-of-type {\n",
       "        vertical-align: middle;\n",
       "    }\n",
       "\n",
       "    .dataframe tbody tr th {\n",
       "        vertical-align: top;\n",
       "    }\n",
       "\n",
       "    .dataframe thead th {\n",
       "        text-align: right;\n",
       "    }\n",
       "</style>\n",
       "<table border=\"1\" class=\"dataframe\">\n",
       "  <thead>\n",
       "    <tr style=\"text-align: right;\">\n",
       "      <th></th>\n",
       "      <th>SFH</th>\n",
       "      <th>popUpWindow</th>\n",
       "      <th>SSLFinal_State</th>\n",
       "      <th>Request_URL</th>\n",
       "      <th>URL_of_Anchor</th>\n",
       "      <th>Web_Traffic</th>\n",
       "      <th>URL_Length</th>\n",
       "      <th>Age_of_Domain</th>\n",
       "      <th>Having_IP_Address</th>\n",
       "      <th>Result</th>\n",
       "    </tr>\n",
       "  </thead>\n",
       "  <tbody>\n",
       "    <tr>\n",
       "      <th>0</th>\n",
       "      <td>1</td>\n",
       "      <td>-1</td>\n",
       "      <td>1</td>\n",
       "      <td>-1</td>\n",
       "      <td>-1</td>\n",
       "      <td>1</td>\n",
       "      <td>1</td>\n",
       "      <td>1</td>\n",
       "      <td>0</td>\n",
       "      <td>0</td>\n",
       "    </tr>\n",
       "    <tr>\n",
       "      <th>1</th>\n",
       "      <td>-1</td>\n",
       "      <td>-1</td>\n",
       "      <td>-1</td>\n",
       "      <td>-1</td>\n",
       "      <td>-1</td>\n",
       "      <td>0</td>\n",
       "      <td>1</td>\n",
       "      <td>1</td>\n",
       "      <td>1</td>\n",
       "      <td>1</td>\n",
       "    </tr>\n",
       "    <tr>\n",
       "      <th>2</th>\n",
       "      <td>1</td>\n",
       "      <td>-1</td>\n",
       "      <td>0</td>\n",
       "      <td>0</td>\n",
       "      <td>-1</td>\n",
       "      <td>0</td>\n",
       "      <td>-1</td>\n",
       "      <td>1</td>\n",
       "      <td>0</td>\n",
       "      <td>1</td>\n",
       "    </tr>\n",
       "    <tr>\n",
       "      <th>3</th>\n",
       "      <td>1</td>\n",
       "      <td>0</td>\n",
       "      <td>1</td>\n",
       "      <td>-1</td>\n",
       "      <td>-1</td>\n",
       "      <td>0</td>\n",
       "      <td>1</td>\n",
       "      <td>1</td>\n",
       "      <td>0</td>\n",
       "      <td>0</td>\n",
       "    </tr>\n",
       "    <tr>\n",
       "      <th>4</th>\n",
       "      <td>-1</td>\n",
       "      <td>-1</td>\n",
       "      <td>1</td>\n",
       "      <td>-1</td>\n",
       "      <td>0</td>\n",
       "      <td>0</td>\n",
       "      <td>-1</td>\n",
       "      <td>1</td>\n",
       "      <td>0</td>\n",
       "      <td>1</td>\n",
       "    </tr>\n",
       "  </tbody>\n",
       "</table>\n",
       "</div>"
      ],
      "text/plain": [
       "   SFH  popUpWindow  SSLFinal_State  Request_URL  URL_of_Anchor  Web_Traffic  \\\n",
       "0    1           -1               1           -1             -1            1   \n",
       "1   -1           -1              -1           -1             -1            0   \n",
       "2    1           -1               0            0             -1            0   \n",
       "3    1            0               1           -1             -1            0   \n",
       "4   -1           -1               1           -1              0            0   \n",
       "\n",
       "   URL_Length  Age_of_Domain  Having_IP_Address  Result  \n",
       "0           1              1                  0       0  \n",
       "1           1              1                  1       1  \n",
       "2          -1              1                  0       1  \n",
       "3           1              1                  0       0  \n",
       "4          -1              1                  0       1  "
      ]
     },
     "execution_count": 1,
     "metadata": {},
     "output_type": "execute_result"
    }
   ],
   "source": [
    "import pandas as pd\n",
    "\n",
    "phishing_data = pd.read_csv('phishing_data.csv')\n",
    "phishing_data.head()"
   ]
  },
  {
   "cell_type": "markdown",
   "metadata": {},
   "source": [
    "## STEP 2: SPLIT THE DATA"
   ]
  },
  {
   "cell_type": "code",
   "execution_count": 2,
   "metadata": {},
   "outputs": [
    {
     "data": {
      "text/html": [
       "<div>\n",
       "<style scoped>\n",
       "    .dataframe tbody tr th:only-of-type {\n",
       "        vertical-align: middle;\n",
       "    }\n",
       "\n",
       "    .dataframe tbody tr th {\n",
       "        vertical-align: top;\n",
       "    }\n",
       "\n",
       "    .dataframe thead th {\n",
       "        text-align: right;\n",
       "    }\n",
       "</style>\n",
       "<table border=\"1\" class=\"dataframe\">\n",
       "  <thead>\n",
       "    <tr style=\"text-align: right;\">\n",
       "      <th></th>\n",
       "      <th>SFH</th>\n",
       "      <th>popUpWindow</th>\n",
       "      <th>SSLFinal_State</th>\n",
       "      <th>Request_URL</th>\n",
       "      <th>URL_of_Anchor</th>\n",
       "      <th>Web_Traffic</th>\n",
       "      <th>URL_Length</th>\n",
       "      <th>Age_of_Domain</th>\n",
       "      <th>Having_IP_Address</th>\n",
       "    </tr>\n",
       "  </thead>\n",
       "  <tbody>\n",
       "    <tr>\n",
       "      <th>777</th>\n",
       "      <td>0</td>\n",
       "      <td>-1</td>\n",
       "      <td>0</td>\n",
       "      <td>0</td>\n",
       "      <td>0</td>\n",
       "      <td>-1</td>\n",
       "      <td>0</td>\n",
       "      <td>1</td>\n",
       "      <td>0</td>\n",
       "    </tr>\n",
       "    <tr>\n",
       "      <th>872</th>\n",
       "      <td>-1</td>\n",
       "      <td>-1</td>\n",
       "      <td>-1</td>\n",
       "      <td>-1</td>\n",
       "      <td>-1</td>\n",
       "      <td>-1</td>\n",
       "      <td>0</td>\n",
       "      <td>1</td>\n",
       "      <td>0</td>\n",
       "    </tr>\n",
       "    <tr>\n",
       "      <th>482</th>\n",
       "      <td>1</td>\n",
       "      <td>0</td>\n",
       "      <td>1</td>\n",
       "      <td>1</td>\n",
       "      <td>1</td>\n",
       "      <td>0</td>\n",
       "      <td>0</td>\n",
       "      <td>1</td>\n",
       "      <td>0</td>\n",
       "    </tr>\n",
       "    <tr>\n",
       "      <th>526</th>\n",
       "      <td>-1</td>\n",
       "      <td>0</td>\n",
       "      <td>0</td>\n",
       "      <td>-1</td>\n",
       "      <td>-1</td>\n",
       "      <td>0</td>\n",
       "      <td>-1</td>\n",
       "      <td>1</td>\n",
       "      <td>0</td>\n",
       "    </tr>\n",
       "    <tr>\n",
       "      <th>344</th>\n",
       "      <td>-1</td>\n",
       "      <td>0</td>\n",
       "      <td>-1</td>\n",
       "      <td>1</td>\n",
       "      <td>1</td>\n",
       "      <td>0</td>\n",
       "      <td>0</td>\n",
       "      <td>1</td>\n",
       "      <td>0</td>\n",
       "    </tr>\n",
       "  </tbody>\n",
       "</table>\n",
       "</div>"
      ],
      "text/plain": [
       "     SFH  popUpWindow  SSLFinal_State  Request_URL  URL_of_Anchor  \\\n",
       "777    0           -1               0            0              0   \n",
       "872   -1           -1              -1           -1             -1   \n",
       "482    1            0               1            1              1   \n",
       "526   -1            0               0           -1             -1   \n",
       "344   -1            0              -1            1              1   \n",
       "\n",
       "     Web_Traffic  URL_Length  Age_of_Domain  Having_IP_Address  \n",
       "777           -1           0              1                  0  \n",
       "872           -1           0              1                  0  \n",
       "482            0           0              1                  0  \n",
       "526            0          -1              1                  0  \n",
       "344            0           0              1                  0  "
      ]
     },
     "execution_count": 2,
     "metadata": {},
     "output_type": "execute_result"
    }
   ],
   "source": [
    "from sklearn.model_selection import train_test_split\n",
    "\n",
    "X = phishing_data.drop('Result', axis=1) #drop the last column (ie., Result)\n",
    "y = phishing_data['Result'] #Result is the outcome variable\n",
    "\n",
    "X_train, X_test, y_train, y_test = train_test_split(X, y, test_size=0.25, random_state=42)\n",
    "\n",
    "#check data\n",
    "X_train.head()"
   ]
  },
  {
   "cell_type": "markdown",
   "metadata": {},
   "source": [
    "## STEP 3: LOAD THE REQUIRED LIBRARIES"
   ]
  },
  {
   "cell_type": "code",
   "execution_count": 3,
   "metadata": {},
   "outputs": [],
   "source": [
    "from sklearn.pipeline import Pipeline\n",
    "from sklearn.linear_model import LogisticRegression\n",
    "from sklearn.neighbors import KNeighborsClassifier\n",
    "from sklearn.svm import SVC\n",
    "from sklearn.tree import DecisionTreeClassifier\n",
    "from sklearn.naive_bayes import GaussianNB\n",
    "from sklearn.metrics import accuracy_score, log_loss\n",
    "from sklearn.preprocessing import RobustScaler\n"
   ]
  },
  {
   "cell_type": "markdown",
   "metadata": {},
   "source": [
    "## STEP 4: TRAIN VARIOUS CLASSIFICATION MODELS"
   ]
  },
  {
   "cell_type": "code",
   "execution_count": 16,
   "metadata": {},
   "outputs": [
    {
     "name": "stdout",
     "output_type": "stream",
     "text": [
      "LogisticRegression()\n",
      "Model score: 0.850\n",
      "\n",
      " -------------------------------- \n",
      "\n",
      "KNeighborsClassifier(n_neighbors=3)\n",
      "Model score: 0.870\n",
      "\n",
      " -------------------------------- \n",
      "\n",
      "SVC(C=0.025, kernel='linear')\n",
      "Model score: 0.835\n",
      "\n",
      " -------------------------------- \n",
      "\n",
      "SVC(C=1, gamma=2)\n",
      "Model score: 0.882\n",
      "\n",
      " -------------------------------- \n",
      "\n",
      "DecisionTreeClassifier(max_depth=5)\n",
      "Model score: 0.838\n",
      "\n",
      " -------------------------------- \n",
      "\n",
      "GaussianNB()\n",
      "Model score: 0.823\n",
      "\n",
      " -------------------------------- \n",
      "\n"
     ]
    }
   ],
   "source": [
    "names = [\"Logististic Regression\", \"Nearest Neighbors\", \"Linear SVM\", \"RBF SVM\",          \n",
    "         \"Decision Tree\", \"Naive Bayes\"]\n",
    "\n",
    "scores = [] #list variable to hold classification scores\n",
    "\n",
    "classifiers = [\n",
    "    LogisticRegression(),\n",
    "    KNeighborsClassifier(3),\n",
    "    SVC(kernel=\"linear\", C=0.025),\n",
    "    SVC(gamma=2, C=1),   \n",
    "    DecisionTreeClassifier(max_depth=5),    \n",
    "    GaussianNB()]\n",
    "\n",
    "\n",
    "for clf in classifiers:\n",
    "    pipe = Pipeline([(\"scaler\",RobustScaler()),(\"classifier\",clf)])\n",
    "    pipe.fit(X_train, y_train)\n",
    "    \n",
    "    score = pipe.score(X_test, y_test)\n",
    "    scores.append(score)\n",
    "    \n",
    "    print(clf)\n",
    "    print(\"Model score: %.3f\" %(score))\n",
    "    print(\"\\n -------------------------------- \\n\")\n",
    "    \n",
    "    "
   ]
  },
  {
   "cell_type": "code",
   "execution_count": 17,
   "metadata": {},
   "outputs": [
    {
     "name": "stdout",
     "output_type": "stream",
     "text": [
      "               Classifier  Accuracy\n",
      "0  Logististic Regression  0.849558\n",
      "1       Nearest Neighbors  0.870206\n",
      "2              Linear SVM  0.834808\n",
      "3                 RBF SVM  0.882006\n",
      "4           Decision Tree  0.837758\n",
      "5             Naive Bayes  0.823009\n"
     ]
    }
   ],
   "source": [
    "scores_df = pd.DataFrame(zip(names, scores), columns=[\"Classifier\", \"Accuracy\"])\n",
    "\n",
    "print(scores_df)"
   ]
  },
  {
   "cell_type": "markdown",
   "metadata": {},
   "source": [
    "## PERFORM PREDICTIONS WITH THE CHOSEN MODEL"
   ]
  },
  {
   "cell_type": "markdown",
   "metadata": {},
   "source": [
    "Based on predictive accuracy of the various models above, we can use either \n",
    "KNN or RBF SVM classifiers to perform out-of-sample predictions.\n",
    "Below, we make out-of-sample predictions for both classifiers\n",
    "using sample data for a new website of given characteristics (X_new)."
   ]
  },
  {
   "cell_type": "markdown",
   "metadata": {},
   "source": [
    "### Prediction using KNN Classifier"
   ]
  },
  {
   "cell_type": "code",
   "execution_count": 6,
   "metadata": {},
   "outputs": [],
   "source": [
    "#sample data (X_new)\n",
    "X_new = pd.DataFrame([[-1,1,1,0,0,0,1,0,-1]], columns=X_train.columns)\n",
    "\n",
    "#fit the model using training set once again.\n",
    "\n",
    "knn = KNeighborsClassifier(3)\n",
    "\n",
    "knn.fit(X_train, y_train)\n",
    "\n",
    "#predict y for X_new\n",
    "y_pred_phi = knn.predict(X_new)\n"
   ]
  },
  {
   "cell_type": "markdown",
   "metadata": {},
   "source": [
    "#### Define functions to display prediction results"
   ]
  },
  {
   "cell_type": "code",
   "execution_count": 7,
   "metadata": {},
   "outputs": [],
   "source": [
    "def display_predicted_class(y_pred):\n",
    "    label =''\n",
    "    if y_pred == 1:\n",
    "        label ='\"Genuine website\"'\n",
    "    \n",
    "    elif y_pred == -1:\n",
    "        label ='\"Phishing website\"'   \n",
    "    \n",
    "    else:\n",
    "        label = '\"Potentially phising website\"'\n",
    "    print('Predicted class membership for website is',y_pred,', which means',label)  "
   ]
  },
  {
   "cell_type": "code",
   "execution_count": 8,
   "metadata": {},
   "outputs": [],
   "source": [
    "def display_predicted_probability(y_pred, pred_prob):\n",
    "    prob_label = ''\n",
    "    prob =0\n",
    "    if y_pred ==- 1:\n",
    "        prob_label ='\", which mean the probability of being a phishing website is\"'\n",
    "        prob = pred_prob[:,0]\n",
    "    \n",
    "    elif y_pred == 1:\n",
    "        prob_label ='\", which mean the probability of being a phishing website is\"'\n",
    "        prob = pred_prob[:,2]\n",
    "     \n",
    "    else:\n",
    "        prob_label ='\", which mean the probability of being a phishing website is\"'\n",
    "        prob = pred_prob[:,1]\n",
    "\n",
    "    print('Predicted probability for the website is',prob, prob_label, prob)   \n",
    "    \n",
    "    "
   ]
  },
  {
   "cell_type": "code",
   "execution_count": 9,
   "metadata": {},
   "outputs": [
    {
     "name": "stdout",
     "output_type": "stream",
     "text": [
      "Predicted class membership for website is [-1] , which means \"Phishing website\"\n"
     ]
    }
   ],
   "source": [
    "#predicted class from knn Classifier\n",
    "display_predicted_class(y_pred_phi)"
   ]
  },
  {
   "cell_type": "code",
   "execution_count": 10,
   "metadata": {},
   "outputs": [
    {
     "name": "stdout",
     "output_type": "stream",
     "text": [
      "Predicted probability for the website is [1.] \", which mean the probability of being a phishing website is\" [1.]\n"
     ]
    }
   ],
   "source": [
    "#Predicted Probability from knn Classifier\n",
    "pred_prob_phi = knn.predict_proba(X_new)\n",
    "\n",
    "display_predicted_probability(y_pred_phi, pred_prob_phi)\n"
   ]
  },
  {
   "cell_type": "code",
   "execution_count": null,
   "metadata": {},
   "outputs": [],
   "source": []
  },
  {
   "cell_type": "markdown",
   "metadata": {},
   "source": [
    "### Prediction using RBF SVM Classifier"
   ]
  },
  {
   "cell_type": "code",
   "execution_count": 11,
   "metadata": {},
   "outputs": [],
   "source": [
    "#sample data (X_new)\n",
    "X_new = pd.DataFrame([[-1,1,1,0,0,0,1,0,-1]], columns=X_train.columns)\n",
    "\n",
    "svm = SVC(kernel=\"rbf\", gamma=2, C=1, probability=True) # need to enable predict_proba\n",
    "\n",
    "svm.fit(X_train, y_train)\n",
    "\n",
    "y_pred_phi = svm.predict(X_new)"
   ]
  },
  {
   "cell_type": "code",
   "execution_count": 12,
   "metadata": {},
   "outputs": [
    {
     "name": "stdout",
     "output_type": "stream",
     "text": [
      "Predicted class membership for website is [-1] , which means \"Phishing website\"\n"
     ]
    }
   ],
   "source": [
    "#predicted class from svm Classifier\n",
    "display_predicted_class(y_pred_phi)"
   ]
  },
  {
   "cell_type": "code",
   "execution_count": 13,
   "metadata": {},
   "outputs": [
    {
     "name": "stdout",
     "output_type": "stream",
     "text": [
      "Predicted probability for the website is [0.5243258] \", which mean the probability of being a phishing website is\" [0.5243258]\n"
     ]
    }
   ],
   "source": [
    "#predicted probability from svm Classifier\n",
    "pred_prob_phi = svm.predict_proba(X_new)\n",
    "\n",
    "display_predicted_probability(y_pred_phi, pred_prob_phi)"
   ]
  },
  {
   "cell_type": "code",
   "execution_count": null,
   "metadata": {},
   "outputs": [],
   "source": []
  },
  {
   "cell_type": "markdown",
   "metadata": {},
   "source": [
    "#### Comparison of KNN and SVM Classifiers"
   ]
  },
  {
   "cell_type": "markdown",
   "metadata": {},
   "source": [
    "From the above analysis, it appears KNN classifier is slightly more accurate in terms \n",
    "of predicted probability of being a phishing website"
   ]
  },
  {
   "cell_type": "markdown",
   "metadata": {},
   "source": [
    "### Evaluation of KNN Classifier"
   ]
  },
  {
   "cell_type": "markdown",
   "metadata": {},
   "source": [
    "#### Confusion Matrix"
   ]
  },
  {
   "cell_type": "code",
   "execution_count": 14,
   "metadata": {},
   "outputs": [
    {
     "data": {
      "text/plain": [
       "<Axes: xlabel='Predicted', ylabel='Actual'>"
      ]
     },
     "execution_count": 14,
     "metadata": {},
     "output_type": "execute_result"
    },
    {
     "data": {
      "image/png": "[encoded data removed]",
      "text/plain": [
       "<Figure size 400x400 with 1 Axes>"
      ]
     },
     "metadata": {},
     "output_type": "display_data"
    }
   ],
   "source": [
    "y_pred = knn.predict(X_test)\n",
    "\n",
    "from sklearn.metrics import confusion_matrix\n",
    "import pandas as pd\n",
    "import seaborn as sns\n",
    "import matplotlib.pyplot as plt\n",
    "%matplotlib inline\n",
    "import numpy as np\n",
    "\n",
    "data = confusion_matrix(y_test, y_pred)\n",
    "df_cm = pd.DataFrame(data, columns=np.unique(y_test), index = np.unique(y_test))\n",
    "df_cm.index.name = 'Actual'\n",
    "df_cm.columns.name = 'Predicted'\n",
    "plt.figure(figsize = (4,4))\n",
    "sns.set(font_scale=1.2)#for label size\n",
    "sns.heatmap(df_cm, annot=True,annot_kws={\"size\": 12}, cbar=False,\n",
    "          vmax=500, square=True, fmt=\"d\", cmap=\"Reds\")# font size"
   ]
  },
  {
   "cell_type": "markdown",
   "metadata": {},
   "source": [
    "From the confusioin matrix above, we see that actual number of phishing websites \n",
    "(class label= -1) in the sample is 169 (154+2+13), and our KNN classifier predicted 154 websites to be phishing websites. \n",
    "\n",
    "The actual number of phishing websites in the sample is the same as support in the classification\n",
    "report below. Precision = (TP/(TP+FP)) = 154/(154+6+12) = 0.895, as shown in the \n",
    "classfication report.  Recall = (TP/(TP+FN)= 154/(154+2+13) = 0.91 as shown in the\n",
    "classfication report.\n",
    "\n",
    "From the confusioin matrix above, we see that actual number of genuine websites \n",
    "(class label= 1) in the sample is 139 (12+1+126), and our KNN classifier predicted 126 websites to be genuine websites.\n",
    "\n",
    "Again, the actual number of genuine websites in the sample is the same as support in the classification report below. Precision = (TP/(TP+FP)) = 126/(126+6+13) = 0.867, as shown in the \n",
    "classfication report.  Recall = (TP/(TP+FN)= 126/(126+1+12) = 0.906 as shown in the\n",
    "classfication report.\n",
    "\n",
    "From the confusioin matrix above, we see that actual number of potentially phishing websites \n",
    "(class label= 0) in the sample is 31 (6+19+6), and our KNN classifier predicted 19 websites to be potentially phishing websites.\n",
    "\n",
    "Again, the actual number of potentially phishing websites in the sample is the same as support in the classification report below. \n",
    "Precision = (TP/(TP+FP)) = 19/(2+19+1) = 0.86, as shown in the \n",
    "classfication report.  Recall = (TP/(TP+FN)= 19/(6+19+6) = 0.61 as shown in the\n",
    "classfication report.\n",
    "\n",
    "We can see from these results that the model produces more accurate predictions the larger the test sample. The weighted average accuracy for the model is 0.88 (or 88%) as can be seen from\n",
    "the classification report."
   ]
  },
  {
   "cell_type": "markdown",
   "metadata": {},
   "source": [
    "#### Classification Report"
   ]
  },
  {
   "cell_type": "code",
   "execution_count": 15,
   "metadata": {},
   "outputs": [
    {
     "name": "stdout",
     "output_type": "stream",
     "text": [
      "              precision    recall  f1-score   support\n",
      "\n",
      "          -1       0.89      0.91      0.90       169\n",
      "           0       0.83      0.65      0.73        31\n",
      "           1       0.86      0.89      0.88       139\n",
      "\n",
      "    accuracy                           0.88       339\n",
      "   macro avg       0.86      0.81      0.83       339\n",
      "weighted avg       0.88      0.88      0.87       339\n",
      "\n"
     ]
    }
   ],
   "source": [
    "from sklearn.metrics import classification_report\n",
    "print(classification_report(y_test, y_pred))"
   ]
  },
  {
   "cell_type": "markdown",
   "metadata": {},
   "source": [
    "#### ROC Curve"
   ]
  },
  {
   "cell_type": "markdown",
   "metadata": {},
   "source": [
    "Note: ROC Curve is mainly a feature for binary classification problems. \n",
    "While some manipulation could be done to generate ROC curve for multi-class classification,\n",
    "It is not necessary for us to do it here. Confusion matrrix and classification report\n",
    "are adequate to assess model's predictive performance"
   ]
  },
  {
   "cell_type": "code",
   "execution_count": null,
   "metadata": {},
   "outputs": [],
   "source": []
  }
 ],
 "metadata": {
  "kernelspec": {
   "display_name": "Python 3 (ipykernel)",
   "language": "python",
   "name": "python3"
  },
  "language_info": {
   "codemirror_mode": {
    "name": "ipython",
    "version": 3
   },
   "file_extension": ".py",
   "mimetype": "text/x-python",
   "name": "python",
   "nbconvert_exporter": "python",
   "pygments_lexer": "ipython3",
   "version": "3.10.9"
  }
 },
 "nbformat": 4,
 "nbformat_minor": 4
}
